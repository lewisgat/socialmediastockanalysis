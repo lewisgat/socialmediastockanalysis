{
 "cells": [
  {
   "cell_type": "code",
   "execution_count": 237,
   "id": "10572d83",
   "metadata": {},
   "outputs": [],
   "source": [
    "import pandas as pd\n",
    "import matplotlib.pyplot as plt\n",
    "from  psaw import PushshiftAPI\n",
    "import datetime\n",
    "import numpy as np\n",
    "import pandas_datareader as web\n",
    "from dateutil import relativedelta\n",
    "from datetime import datetime as dt\n",
    "from tabulate import tabulate"
   ]
  },
  {
   "cell_type": "code",
   "execution_count": 212,
   "id": "020e7937",
   "metadata": {},
   "outputs": [
    {
     "data": {
      "text/html": [
       "<div>\n",
       "<style scoped>\n",
       "    .dataframe tbody tr th:only-of-type {\n",
       "        vertical-align: middle;\n",
       "    }\n",
       "\n",
       "    .dataframe tbody tr th {\n",
       "        vertical-align: top;\n",
       "    }\n",
       "\n",
       "    .dataframe thead th {\n",
       "        text-align: right;\n",
       "    }\n",
       "</style>\n",
       "<table border=\"1\" class=\"dataframe\">\n",
       "  <thead>\n",
       "    <tr style=\"text-align: right;\">\n",
       "      <th></th>\n",
       "      <th>Mentions</th>\n",
       "      <th>Returns_0w</th>\n",
       "      <th>Returns_1w</th>\n",
       "      <th>Vol_0w</th>\n",
       "      <th>Vol_1w</th>\n",
       "    </tr>\n",
       "  </thead>\n",
       "  <tbody>\n",
       "    <tr>\n",
       "      <th>Mentions</th>\n",
       "      <td>1.000000</td>\n",
       "      <td>0.111762</td>\n",
       "      <td>-0.077517</td>\n",
       "      <td>0.264625</td>\n",
       "      <td>0.118171</td>\n",
       "    </tr>\n",
       "    <tr>\n",
       "      <th>Returns_0w</th>\n",
       "      <td>0.111762</td>\n",
       "      <td>1.000000</td>\n",
       "      <td>-0.093145</td>\n",
       "      <td>0.716392</td>\n",
       "      <td>0.271243</td>\n",
       "    </tr>\n",
       "    <tr>\n",
       "      <th>Returns_1w</th>\n",
       "      <td>-0.077517</td>\n",
       "      <td>-0.093145</td>\n",
       "      <td>1.000000</td>\n",
       "      <td>-0.128030</td>\n",
       "      <td>0.499857</td>\n",
       "    </tr>\n",
       "    <tr>\n",
       "      <th>Vol_0w</th>\n",
       "      <td>0.264625</td>\n",
       "      <td>0.716392</td>\n",
       "      <td>-0.128030</td>\n",
       "      <td>1.000000</td>\n",
       "      <td>0.274922</td>\n",
       "    </tr>\n",
       "    <tr>\n",
       "      <th>Vol_1w</th>\n",
       "      <td>0.118171</td>\n",
       "      <td>0.271243</td>\n",
       "      <td>0.499857</td>\n",
       "      <td>0.274922</td>\n",
       "      <td>1.000000</td>\n",
       "    </tr>\n",
       "  </tbody>\n",
       "</table>\n",
       "</div>"
      ],
      "text/plain": [
       "            Mentions  Returns_0w  Returns_1w    Vol_0w    Vol_1w\n",
       "Mentions    1.000000    0.111762   -0.077517  0.264625  0.118171\n",
       "Returns_0w  0.111762    1.000000   -0.093145  0.716392  0.271243\n",
       "Returns_1w -0.077517   -0.093145    1.000000 -0.128030  0.499857\n",
       "Vol_0w      0.264625    0.716392   -0.128030  1.000000  0.274922\n",
       "Vol_1w      0.118171    0.271243    0.499857  0.274922  1.000000"
      ]
     },
     "execution_count": 212,
     "metadata": {},
     "output_type": "execute_result"
    }
   ],
   "source": [
    "df = pd.read_csv('df_with_returns.csv')\n",
    "df[['Mentions','Returns_0w','Returns_1w','Vol_0w','Vol_1w']].corr() \n",
    "#low correlation - not a strong linear relationship between number of mentions and returns\n",
    "#slightly higher with volatility. "
   ]
  },
  {
   "cell_type": "code",
   "execution_count": 213,
   "id": "8d24fd50",
   "metadata": {},
   "outputs": [],
   "source": [
    "df = df[['Ticker', 'Mentions',\n",
    "       'Start_Time', 'End_Time', 'Returns_0w', 'Returns_1w', 'Vol_0w',\n",
    "       'Vol_1w']]"
   ]
  },
  {
   "cell_type": "code",
   "execution_count": 214,
   "id": "c3cf1113",
   "metadata": {},
   "outputs": [],
   "source": [
    "df = df.sort_values(by=[\"Start_Time\", 'Mentions'])"
   ]
  },
  {
   "cell_type": "code",
   "execution_count": 215,
   "id": "9fd0932d",
   "metadata": {},
   "outputs": [],
   "source": [
    "t = datetime.datetime(2020,11,30)\n",
    "dates = [t]\n",
    "for i in range(1,52):\n",
    "    dates.append(t+relativedelta.relativedelta(weeks=i))"
   ]
  },
  {
   "cell_type": "code",
   "execution_count": 216,
   "id": "749e6a89",
   "metadata": {},
   "outputs": [],
   "source": [
    "weekly_returns0w = []\n",
    "weekly_returns1w = [0]\n",
    "SP500_returns = []\n",
    "for date in dates:\n",
    "    return0w = []\n",
    "    return1w = []\n",
    "#     start_time = datetime.datetime.strptime(df['Start_Time'][i], '%Y-%m-%d')\n",
    "\n",
    "    end_time = date + relativedelta.relativedelta(weeks=1)\n",
    "    price_0w = web.get_data_yahoo('SPY',\n",
    "                        start = date,\n",
    "                        end = end_time)['Adj Close']\n",
    "    SP500_returns.append((price_0w[-1]/price_0w[0]) - 1)\n",
    "    for i in range(len(df['Start_Time'])):\n",
    "        if dt.strptime(df['Start_Time'][i], \"%Y-%m-%d\").date() == date.date():\n",
    "            return0w.append(df['Returns_0w'][i])\n",
    "            return1w.append(df['Returns_1w'][i])\n",
    "    \n",
    "    if len(return0w) == 0:\n",
    "        weekly_returns0w.append(0)\n",
    "    else:\n",
    "        weekly_returns0w.append(sum(return0w)/len(return0w))\n",
    "    \n",
    "    if len(return1w) == 0:\n",
    "        weekly_returns1w.append(0)\n",
    "    else:       \n",
    "        weekly_returns1w.append(sum(return1w)/len(return1w))     \n",
    "            "
   ]
  },
  {
   "cell_type": "code",
   "execution_count": 217,
   "id": "1be52e43",
   "metadata": {},
   "outputs": [],
   "source": [
    "weekly_returns0w_cumsum = np.cumsum(weekly_returns0w)\n",
    "weekly_returns1w_cumsum = np.cumsum(weekly_returns1w[:-1])\n",
    "SP500_returns_cumsum = np.cumsum(SP500_returns)"
   ]
  },
  {
   "cell_type": "code",
   "execution_count": 218,
   "id": "a0aafbc3",
   "metadata": {},
   "outputs": [
    {
     "data": {
      "image/png": "[encoded data removed]",
      "text/plain": [
       "<Figure size 432x288 with 1 Axes>"
      ]
     },
     "metadata": {
      "needs_background": "light"
     },
     "output_type": "display_data"
    }
   ],
   "source": [
    "plt.plot(dates, weekly_returns0w_cumsum, label = '+0 Week Return')\n",
    "plt.plot(dates, weekly_returns1w_cumsum, label = '+1 Week Return')\n",
    "plt.plot(dates, SP500_returns_cumsum, label = 'S&P 500')\n",
    "plt.legend()\n",
    "plt.show()"
   ]
  },
  {
   "cell_type": "code",
   "execution_count": 219,
   "id": "bdd84b25",
   "metadata": {},
   "outputs": [],
   "source": [
    "df_cumreturns = pd.DataFrame({'Dates': dates,\n",
    "                              'S&P500 Weekly Return': SP500_returns,\n",
    "                              'S&P500 Cumulative Return' : SP500_returns_cumsum,\n",
    "                              '+0 Weekly Return': weekly_returns0w,\n",
    "                              '+0 Cumulative Return': weekly_returns0w_cumsum,\n",
    "                              '+1 Weekly Return': weekly_returns1w[:-1],\n",
    "                              '+1 Cumulative Return': weekly_returns1w_cumsum,\n",
    "                             })"
   ]
  },
  {
   "cell_type": "code",
   "execution_count": 222,
   "id": "2f7d4cf3",
   "metadata": {},
   "outputs": [
    {
     "data": {
      "text/html": [
       "<div>\n",
       "<style scoped>\n",
       "    .dataframe tbody tr th:only-of-type {\n",
       "        vertical-align: middle;\n",
       "    }\n",
       "\n",
       "    .dataframe tbody tr th {\n",
       "        vertical-align: top;\n",
       "    }\n",
       "\n",
       "    .dataframe thead th {\n",
       "        text-align: right;\n",
       "    }\n",
       "</style>\n",
       "<table border=\"1\" class=\"dataframe\">\n",
       "  <thead>\n",
       "    <tr style=\"text-align: right;\">\n",
       "      <th></th>\n",
       "      <th>Dates</th>\n",
       "      <th>S&amp;P500 Weekly Return</th>\n",
       "      <th>S&amp;P500 Cumulative Return</th>\n",
       "      <th>+0 Weekly Return</th>\n",
       "      <th>+0 Cumulative Return</th>\n",
       "      <th>+1 Weekly Return</th>\n",
       "      <th>+1 Cumulative Return</th>\n",
       "    </tr>\n",
       "  </thead>\n",
       "  <tbody>\n",
       "    <tr>\n",
       "      <th>47</th>\n",
       "      <td>2021-10-25</td>\n",
       "      <td>0.009856</td>\n",
       "      <td>0.259805</td>\n",
       "      <td>-0.086394</td>\n",
       "      <td>6.087738</td>\n",
       "      <td>-0.049599</td>\n",
       "      <td>1.288723</td>\n",
       "    </tr>\n",
       "    <tr>\n",
       "      <th>48</th>\n",
       "      <td>2021-11-01</td>\n",
       "      <td>0.019324</td>\n",
       "      <td>0.279129</td>\n",
       "      <td>0.116304</td>\n",
       "      <td>6.204042</td>\n",
       "      <td>0.038520</td>\n",
       "      <td>1.327243</td>\n",
       "    </tr>\n",
       "    <tr>\n",
       "      <th>49</th>\n",
       "      <td>2021-11-08</td>\n",
       "      <td>-0.003199</td>\n",
       "      <td>0.275930</td>\n",
       "      <td>0.001977</td>\n",
       "      <td>6.206019</td>\n",
       "      <td>-0.054245</td>\n",
       "      <td>1.272998</td>\n",
       "    </tr>\n",
       "    <tr>\n",
       "      <th>50</th>\n",
       "      <td>2021-11-15</td>\n",
       "      <td>0.000300</td>\n",
       "      <td>0.276230</td>\n",
       "      <td>-0.208494</td>\n",
       "      <td>5.997525</td>\n",
       "      <td>-0.012982</td>\n",
       "      <td>1.260016</td>\n",
       "    </tr>\n",
       "    <tr>\n",
       "      <th>51</th>\n",
       "      <td>2021-11-22</td>\n",
       "      <td>-0.006352</td>\n",
       "      <td>0.269878</td>\n",
       "      <td>-0.034146</td>\n",
       "      <td>5.963379</td>\n",
       "      <td>-0.034146</td>\n",
       "      <td>1.225870</td>\n",
       "    </tr>\n",
       "  </tbody>\n",
       "</table>\n",
       "</div>"
      ],
      "text/plain": [
       "        Dates  S&P500 Weekly Return  S&P500 Cumulative Return  \\\n",
       "47 2021-10-25              0.009856                  0.259805   \n",
       "48 2021-11-01              0.019324                  0.279129   \n",
       "49 2021-11-08             -0.003199                  0.275930   \n",
       "50 2021-11-15              0.000300                  0.276230   \n",
       "51 2021-11-22             -0.006352                  0.269878   \n",
       "\n",
       "    +0 Weekly Return  +0 Cumulative Return  +1 Weekly Return  \\\n",
       "47         -0.086394              6.087738         -0.049599   \n",
       "48          0.116304              6.204042          0.038520   \n",
       "49          0.001977              6.206019         -0.054245   \n",
       "50         -0.208494              5.997525         -0.012982   \n",
       "51         -0.034146              5.963379         -0.034146   \n",
       "\n",
       "    +1 Cumulative Return  \n",
       "47              1.288723  \n",
       "48              1.327243  \n",
       "49              1.272998  \n",
       "50              1.260016  \n",
       "51              1.225870  "
      ]
     },
     "execution_count": 222,
     "metadata": {},
     "output_type": "execute_result"
    }
   ],
   "source": [
    "df_cumreturns.tail()"
   ]
  },
  {
   "cell_type": "code",
   "execution_count": 221,
   "id": "0fb50d6d",
   "metadata": {},
   "outputs": [],
   "source": [
    "df_cumreturns.to_csv('Final Cumulative Returns.csv')"
   ]
  },
  {
   "cell_type": "code",
   "execution_count": 246,
   "id": "d2e4660b",
   "metadata": {},
   "outputs": [
    {
     "name": "stdout",
     "output_type": "stream",
     "text": [
      "Portfolio        Total Return    Volatility\n",
      "---------------  --------------  ------------\n",
      "S&P 500          26.99%          1.59%\n",
      "Week 0 Strategy  596.34%         23.48%\n",
      "Week 1 Strategy  122.59%         15.15%\n"
     ]
    }
   ],
   "source": [
    "table = [['Portfolio', 'Total Return', 'Volatility'],\n",
    "    ['S&P 500', \"{:.2%}\".format(float(df_cumreturns['S&P500 Cumulative Return'].tail(1))), \"{:.2%}\".format(np.std(df_cumreturns['S&P500 Weekly Return']))],\n",
    "    ['Week 0 Strategy', \"{:.2%}\".format(float(df_cumreturns['+0 Cumulative Return'].tail(1))), \"{:.2%}\".format(np.std(df_cumreturns['+0 Weekly Return']))],\n",
    "    ['Week 1 Strategy', \"{:.2%}\".format(float(df_cumreturns['+1 Cumulative Return'].tail(1))), \"{:.2%}\".format(np.std(df_cumreturns['+1 Weekly Return']))],\n",
    "        ]\n",
    "print(tabulate(table, headers='firstrow'))"
   ]
  },
  {
   "cell_type": "code",
   "execution_count": null,
   "id": "7ff3bdb4",
   "metadata": {},
   "outputs": [],
   "source": []
  }
 ],
 "metadata": {
  "kernelspec": {
   "display_name": "Python 3",
   "language": "python",
   "name": "python3"
  },
  "language_info": {
   "codemirror_mode": {
    "name": "ipython",
    "version": 3
   },
   "file_extension": ".py",
   "mimetype": "text/x-python",
   "name": "python",
   "nbconvert_exporter": "python",
   "pygments_lexer": "ipython3",
   "version": "3.8.8"
  }
 },
 "nbformat": 4,
 "nbformat_minor": 5
}
