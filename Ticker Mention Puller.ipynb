{
 "cells": [
  {
   "cell_type": "code",
   "execution_count": 5,
   "id": "2b57a6d3",
   "metadata": {},
   "outputs": [],
   "source": [
    "from  psaw import PushshiftAPI\n",
    "import datetime\n",
    "import pandas as pd\n",
    "from matplotlib import pyplot as plt\n",
    "import numpy as np\n",
    "import pandas_datareader as web\n",
    "from dateutil import relativedelta\n",
    "\n",
    "api = PushshiftAPI()\n",
    "\n",
    "NASDAQ_df = pd.read_csv('NASDAQ.csv')\n",
    "AMEX_df = pd.read_csv('AMEX.csv')\n",
    "NYSE_df = pd.read_csv('NYSE.csv')\n",
    "\n",
    "frames = [NASDAQ_df, AMEX_df, NYSE_df]\n",
    "temp = pd.concat(frames)\n",
    "cols = list(temp.columns)\n",
    "temp.drop(cols[2:], axis = 1, inplace = True)\n",
    "tickers = temp['Symbol'].tolist()"
   ]
  },
  {
   "cell_type": "code",
   "execution_count": 6,
   "id": "d31607eb",
   "metadata": {},
   "outputs": [],
   "source": [
    "def stonk_mentions(start_time, end_time, tickers, m = 1):\n",
    "    \n",
    "    start_time_int = int(start_time.timestamp())\n",
    "    end_time_int = int(end_time.timestamp())\n",
    "    next_month_time = end_time + relativedelta.relativedelta(months=m)\n",
    "    \n",
    "    submissions = api.search_submissions(after = start_time_int, before = end_time_int,\n",
    "                                subreddit = 'wallstreetbets',\n",
    "                                filter = ['url', 'author', 'title', 'subreddit'])\n",
    "    \n",
    "    df = pd.DataFrame({\"Ticker\" : tickers})\n",
    "    \n",
    "    mentions = []\n",
    "    for submission in submissions:\n",
    "        words = submission.title.split()\n",
    "        cashtags = list(set(filter(lambda word: word.upper().startswith('$'), words)))\n",
    "        \n",
    "        if len(cashtags) > 0:\n",
    "            for cashtag in cashtags:\n",
    "                tick = cashtag.replace('$','')\n",
    "                if tick in tickers:\n",
    "                    mentions.append(tick)\n",
    "    \n",
    "    occurances = []\n",
    "    for tick in tickers:\n",
    "        try: \n",
    "            occurances.append(mentions.count(tick.upper()))\n",
    "        except:\n",
    "            pass \n",
    "        \n",
    "    df['Mentions'] = occurances \n",
    "    df2 = df[df['Mentions'] > 20]\n",
    "    df2 = df2.sort_values('Mentions', axis = 0, ascending = False)\n",
    "    \n",
    "    df['Start_Time'] = start_time\n",
    "    df['End_Time'] = end_time\n",
    "    df2['Start_Time'] = start_time\n",
    "    df2['End_Time'] = end_time\n",
    "    \n",
    "    return df, df2"
   ]
  },
  {
   "cell_type": "code",
   "execution_count": 7,
   "id": "63b03aa4",
   "metadata": {},
   "outputs": [],
   "source": [
    "t = datetime.datetime(2020,11,30)\n",
    "dates = [t]\n",
    "for i in range(1,53):\n",
    "    dates.append(t+relativedelta.relativedelta(weeks=i)) #12 months of time history"
   ]
  },
  {
   "cell_type": "code",
   "execution_count": null,
   "id": "d51bae61",
   "metadata": {},
   "outputs": [
    {
     "name": "stdout",
     "output_type": "stream",
     "text": [
      "0\n",
      "1\n",
      "2\n",
      "3\n",
      "4\n",
      "5\n",
      "6\n",
      "7\n"
     ]
    },
    {
     "name": "stderr",
     "output_type": "stream",
     "text": [
      "/opt/anaconda3/lib/python3.8/site-packages/psaw/PushshiftAPI.py:192: UserWarning: Got non 200 code 429\n",
      "  warnings.warn(\"Got non 200 code %s\" % response.status_code)\n",
      "/opt/anaconda3/lib/python3.8/site-packages/psaw/PushshiftAPI.py:180: UserWarning: Unable to connect to pushshift.io. Retrying after backoff.\n",
      "  warnings.warn(\"Unable to connect to pushshift.io. Retrying after backoff.\")\n",
      "/opt/anaconda3/lib/python3.8/site-packages/psaw/PushshiftAPI.py:192: UserWarning: Got non 200 code 522\n",
      "  warnings.warn(\"Got non 200 code %s\" % response.status_code)\n"
     ]
    },
    {
     "name": "stdout",
     "output_type": "stream",
     "text": [
      "8\n"
     ]
    }
   ],
   "source": [
    "frames_df = []\n",
    "frames_df2 = []\n",
    "for i in range(len(dates)):\n",
    "    df, df2 = stonk_mentions(dates[i], dates[i+1], tickers, 1)\n",
    "    frames_df.append(df)\n",
    "    frames_df2.append(df2)\n",
    "    print(i)"
   ]
  },
  {
   "cell_type": "code",
   "execution_count": null,
   "id": "98cbc4f7",
   "metadata": {},
   "outputs": [],
   "source": [
    "result_df = pd.concat(frames_df)\n",
    "result_df2 = pd.concat(frames_df2)"
   ]
  },
  {
   "cell_type": "code",
   "execution_count": 18,
   "id": "eee0ff00",
   "metadata": {},
   "outputs": [],
   "source": [
    "result_df.to_csv('TickerPullsFull.csv')"
   ]
  },
  {
   "cell_type": "code",
   "execution_count": 22,
   "id": "38ddd891",
   "metadata": {},
   "outputs": [],
   "source": [
    "frames_df2.reset_index(inplace = True)"
   ]
  },
  {
   "cell_type": "code",
   "execution_count": 24,
   "id": "20a9cae3",
   "metadata": {},
   "outputs": [
    {
     "data": {
      "text/plain": [
       "367"
      ]
     },
     "execution_count": 24,
     "metadata": {},
     "output_type": "execute_result"
    }
   ],
   "source": []
  }
 ],
 "metadata": {
  "kernelspec": {
   "display_name": "Python 3",
   "language": "python",
   "name": "python3"
  },
  "language_info": {
   "codemirror_mode": {
    "name": "ipython",
    "version": 3
   },
   "file_extension": ".py",
   "mimetype": "text/x-python",
   "name": "python",
   "nbconvert_exporter": "python",
   "pygments_lexer": "ipython3",
   "version": "3.8.8"
  }
 },
 "nbformat": 4,
 "nbformat_minor": 5
}
