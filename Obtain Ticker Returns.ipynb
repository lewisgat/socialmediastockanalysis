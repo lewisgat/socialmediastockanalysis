{
 "cells": [
  {
   "cell_type": "code",
   "execution_count": 18,
   "id": "af34b300",
   "metadata": {},
   "outputs": [],
   "source": [
    "from  psaw import PushshiftAPI\n",
    "import datetime as datetime\n",
    "import pandas as pd\n",
    "from matplotlib import pyplot as plt\n",
    "import numpy as np\n",
    "import pandas_datareader as web\n",
    "from dateutil import relativedelta"
   ]
  },
  {
   "cell_type": "code",
   "execution_count": 19,
   "id": "bb22f681",
   "metadata": {},
   "outputs": [],
   "source": [
    "df = pd.read_csv('TickerPullsAbove20Mentions.csv')"
   ]
  },
  {
   "cell_type": "code",
   "execution_count": 11,
   "id": "c3b2fc3b",
   "metadata": {},
   "outputs": [
    {
     "data": {
      "text/html": [
       "<div>\n",
       "<style scoped>\n",
       "    .dataframe tbody tr th:only-of-type {\n",
       "        vertical-align: middle;\n",
       "    }\n",
       "\n",
       "    .dataframe tbody tr th {\n",
       "        vertical-align: top;\n",
       "    }\n",
       "\n",
       "    .dataframe thead th {\n",
       "        text-align: right;\n",
       "    }\n",
       "</style>\n",
       "<table border=\"1\" class=\"dataframe\">\n",
       "  <thead>\n",
       "    <tr style=\"text-align: right;\">\n",
       "      <th></th>\n",
       "      <th>Unnamed: 0</th>\n",
       "      <th>index</th>\n",
       "      <th>Ticker</th>\n",
       "      <th>Mentions</th>\n",
       "      <th>Start_Time</th>\n",
       "      <th>End_Time</th>\n",
       "    </tr>\n",
       "  </thead>\n",
       "  <tbody>\n",
       "    <tr>\n",
       "      <th>0</th>\n",
       "      <td>0</td>\n",
       "      <td>6859</td>\n",
       "      <td>PLTR</td>\n",
       "      <td>92</td>\n",
       "      <td>2020-11-30</td>\n",
       "      <td>2020-12-07</td>\n",
       "    </tr>\n",
       "    <tr>\n",
       "      <th>1</th>\n",
       "      <td>1</td>\n",
       "      <td>5893</td>\n",
       "      <td>GME</td>\n",
       "      <td>41</td>\n",
       "      <td>2020-11-30</td>\n",
       "      <td>2020-12-07</td>\n",
       "    </tr>\n",
       "    <tr>\n",
       "      <th>2</th>\n",
       "      <td>2</td>\n",
       "      <td>4942</td>\n",
       "      <td>BB</td>\n",
       "      <td>23</td>\n",
       "      <td>2020-11-30</td>\n",
       "      <td>2020-12-07</td>\n",
       "    </tr>\n",
       "    <tr>\n",
       "      <th>3</th>\n",
       "      <td>3</td>\n",
       "      <td>6859</td>\n",
       "      <td>PLTR</td>\n",
       "      <td>41</td>\n",
       "      <td>2020-12-07</td>\n",
       "      <td>2020-12-14</td>\n",
       "    </tr>\n",
       "    <tr>\n",
       "      <th>4</th>\n",
       "      <td>4</td>\n",
       "      <td>3937</td>\n",
       "      <td>TSLA</td>\n",
       "      <td>36</td>\n",
       "      <td>2020-12-07</td>\n",
       "      <td>2020-12-14</td>\n",
       "    </tr>\n",
       "  </tbody>\n",
       "</table>\n",
       "</div>"
      ],
      "text/plain": [
       "   Unnamed: 0  index Ticker  Mentions  Start_Time    End_Time\n",
       "0           0   6859   PLTR        92  2020-11-30  2020-12-07\n",
       "1           1   5893    GME        41  2020-11-30  2020-12-07\n",
       "2           2   4942     BB        23  2020-11-30  2020-12-07\n",
       "3           3   6859   PLTR        41  2020-12-07  2020-12-14\n",
       "4           4   3937   TSLA        36  2020-12-07  2020-12-14"
      ]
     },
     "execution_count": 11,
     "metadata": {},
     "output_type": "execute_result"
    }
   ],
   "source": [
    "df.head()"
   ]
  },
  {
   "cell_type": "code",
   "execution_count": 12,
   "id": "fbee0136",
   "metadata": {},
   "outputs": [],
   "source": [
    "returns_0w_list = []\n",
    "returns_1w_list = []\n",
    "vol_0w_list = []\n",
    "vol_1w_list = []\n",
    "\n",
    "for i in range(len(df)):\n",
    "    start_time = datetime.datetime.strptime(df['Start_Time'][i], '%Y-%m-%d')\n",
    "    end_time = datetime.datetime.strptime(df['End_Time'][i], '%Y-%m-%d')\n",
    "    next_time = end_time + relativedelta.relativedelta(weeks=1)\n",
    "    try:\n",
    "        price_0w = web.get_data_yahoo(df['Ticker'][i],\n",
    "                        start = start_time,\n",
    "                        end = end_time)['Adj Close']\n",
    "        returns_0w_list.append( (price_0w[-1]/price_0w[0]) - 1 )\n",
    "        vol_0w_list.append( np.std(price_0w.pct_change()) ) \n",
    "\n",
    "        price_1w = web.get_data_yahoo(df['Ticker'][i],\n",
    "                        start = end_time,\n",
    "                        end = next_time)['Adj Close']\n",
    "        returns_1w_list.append( (price_1w[-1]/price_1w[0]) - 1 )\n",
    "        vol_1w_list.append( np.std(price_1w.pct_change()) )\n",
    "    except:\n",
    "        returns_0w_list.append(0)\n",
    "        returns_1w_list.append(0)\n",
    "        vol_0w_list.append(0)\n",
    "        vol_1w_list.append(0)\n",
    "        pass "
   ]
  },
  {
   "cell_type": "code",
   "execution_count": 13,
   "id": "bcb9111e",
   "metadata": {},
   "outputs": [],
   "source": [
    "df['Returns_0w'] = returns_0w_list\n",
    "df['Returns_1w'] = returns_1w_list\n",
    "df['Vol_0w'] = vol_0w_list\n",
    "df['Vol_1w'] = vol_1w_list"
   ]
  },
  {
   "cell_type": "code",
   "execution_count": 7,
   "id": "78efbfb2",
   "metadata": {},
   "outputs": [
    {
     "ename": "NameError",
     "evalue": "name 'df' is not defined",
     "output_type": "error",
     "traceback": [
      "\u001b[0;31m---------------------------------------------------------------------------\u001b[0m",
      "\u001b[0;31mNameError\u001b[0m                                 Traceback (most recent call last)",
      "\u001b[0;32m<ipython-input-7-4822b27f68cc>\u001b[0m in \u001b[0;36m<module>\u001b[0;34m\u001b[0m\n\u001b[0;32m----> 1\u001b[0;31m \u001b[0mdf\u001b[0m\u001b[0;34m[\u001b[0m\u001b[0;34m[\u001b[0m\u001b[0;34m'Mentions'\u001b[0m\u001b[0;34m,\u001b[0m\u001b[0;34m'Returns_0w'\u001b[0m\u001b[0;34m,\u001b[0m\u001b[0;34m'Returns_1w'\u001b[0m\u001b[0;34m,\u001b[0m\u001b[0;34m'Vol_0w'\u001b[0m\u001b[0;34m,\u001b[0m\u001b[0;34m'Vol_1w'\u001b[0m\u001b[0;34m]\u001b[0m\u001b[0;34m]\u001b[0m\u001b[0;34m.\u001b[0m\u001b[0mcorr\u001b[0m\u001b[0;34m(\u001b[0m\u001b[0;34m)\u001b[0m\u001b[0;34m\u001b[0m\u001b[0;34m\u001b[0m\u001b[0m\n\u001b[0m",
      "\u001b[0;31mNameError\u001b[0m: name 'df' is not defined"
     ]
    }
   ],
   "source": [
    "df[['Mentions','Returns_0w','Returns_1w','Vol_0w','Vol_1w']].corr()"
   ]
  },
  {
   "cell_type": "code",
   "execution_count": null,
   "id": "67b00e24",
   "metadata": {},
   "outputs": [],
   "source": []
  }
 ],
 "metadata": {
  "kernelspec": {
   "display_name": "Python 3",
   "language": "python",
   "name": "python3"
  },
  "language_info": {
   "codemirror_mode": {
    "name": "ipython",
    "version": 3
   },
   "file_extension": ".py",
   "mimetype": "text/x-python",
   "name": "python",
   "nbconvert_exporter": "python",
   "pygments_lexer": "ipython3",
   "version": "3.8.8"
  }
 },
 "nbformat": 4,
 "nbformat_minor": 5
}
